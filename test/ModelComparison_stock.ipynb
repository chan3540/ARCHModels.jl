{
 "cells": [
  {
   "cell_type": "markdown",
   "metadata": {},
   "source": [
    "# pRealGARCH(S,p,q₁,q₂)\n",
    "\n",
    "    GARCH equation\n",
    "\n",
    "        loghₜ = ω(mod(t-1,m)+1) + ∑(r=1,..,p) βᵣ loghₜ₋ᵣ +  ∑(i=1,...,q₁) τ₁ᵢzₜ₋ᵢ  + ∑(j=1,...,q₂) τ₂ⱼ(zₜ₋ⱼ²-1) +  + γ′uₜ  for m = 1,...,S  \n",
    "        S is the number of periodicity parameters. \n",
    "\n",
    "        rₜ = √hₜ zₜ,  zₜ ~ N(0,1)\n",
    "\n",
    "    Measurement Equation\n",
    "\n",
    "        log xₜ = ξ + log hₜ + δ(zₜ) + uₜ \n",
    "\n",
    "        where δ(z)=δ₁z + δ₂(z²-1)\n",
    " \n",
    "\n",
    "# dRealGARCH(p,q)\n",
    "\n",
    "    GARCH equation\n",
    "\n",
    "        loghₜ = ω + ∑(r=1,..,p) βᵣ loghₜ₋ᵣ +  ∑(i=1,...,q) τ₁ᵢ̃zₜ₋ᵢ  + ∑(j=1,...,q) τ₂ⱼ(̃zₜ₋ⱼ²-1) +  + γ′̃uₜ    \n",
    "        rₜ = √hₜ zₜ,  zₜ ~ N(0,1)\n",
    "\n",
    "        ̃z and ̃u is defined by\n",
    "        ̃z = z/sqrt(1+z^2*0.1) \n",
    "        ̃u = u/sqrt(1+u^2*0.1)\n",
    "\n",
    "    Measurement Equation\n",
    "\n",
    "        log xₜ = ξ + log hₜ + δ(zₜ) + uₜ \n",
    "\n",
    "        where δ(z)=δ₁z + δ₂(z²-1)\n",
    " \n",
    "\n",
    "\n",
    "**Reference:**<br>\n",
    "P.R. Hansen, Z Huang, H.H. Shek, 2012. Realized GARCH: A joint model for returns and realized measures of volatility. Journal of Applied Econometrics <br>\n",
    "P.R. Hansen, Z Huang, 2015. Exponential GARCH modeling with realized measures of volatility. Journal of Business & Economic Statistics<br>\n",
    "GD Banulescu, P.R. Hansen, Z Huang, M Matei, 2014. Volatility during the financial crisis through the lens of high frequency data: a realized GARCH approach<br>"
   ]
  },
  {
   "cell_type": "code",
   "execution_count": 1,
   "metadata": {},
   "outputs": [],
   "source": [
    "#import package\n",
    "using CSV, DataFrames\n",
    "using Optim\n",
    "using Plots\n",
    "include(\"../src/ARCHModels.jl\")\n",
    "using .ARCHModels"
   ]
  },
  {
   "cell_type": "code",
   "execution_count": null,
   "metadata": {},
   "outputs": [],
   "source": [
    "# load data\n",
    "tickers = [\"SPY\",\"KO\",\"AAPL\",\"TSLA\",\"JNJ\",\"CVX\"]\n",
    "ticker = tickers[1] # Choose ticker \n",
    "filename = ticker*\"_RMs.csv\"#\n",
    "readpath = dirname(pwd())*\"\\\\src\\\\data\\\\\"*filename\n",
    "df = DataFrame(CSV.File(readpath,header = 1))"
   ]
  },
  {
   "cell_type": "code",
   "execution_count": null,
   "metadata": {},
   "outputs": [],
   "source": [
    "# Price and Volatility plot\n",
    "myplot = plot(df[:,1],df.close,title=ticker,color=:blue,legend=:topleft,label=\"Close Price\",ylabel=\"Price(Dollar)\",xlabel=\"Date\",rightmargin = 1.5Plots.cm,yguidefont = font(:blue))\n",
    "plt = twinx()\n",
    "plot!(plt,df[:,1],df.RK,alpha=0.5,color=:red,legend=:top,label=\"RK\",ylabel=\"σ²\",yguidefont = font(:red))"
   ]
  },
  {
   "cell_type": "code",
   "execution_count": null,
   "metadata": {},
   "outputs": [],
   "source": [
    "#split insample / out-of-sample\n",
    "N₁ = 1000\n",
    "# Close to Close return and Realized Kernel\n",
    "c2c_r = diff(log.(df.close))\n",
    "rm = df[2:end,\"RK\"]\n",
    "\n",
    "rt = c2c_r\n",
    "xt = rm\n",
    "rt_N₁ = c2c_r[1:N₁]\n",
    "xt_N₁ = rm[1:N₁]\n"
   ]
  },
  {
   "cell_type": "code",
   "execution_count": null,
   "metadata": {},
   "outputs": [],
   "source": [
    "\n",
    "# In-sample estimation \n",
    "\n",
    "# egarch\n",
    "#Refer to https://s-broda.github.io/ARCHModels.jl/stable/univariatetypehierarchy/ for EGARCH and TGARCH model specification. \n",
    "\n",
    "spec = EGARCH{1,1,1}(zeros(4))\n",
    "am = UnivariateARCHModel(spec,rt_N₁)\n",
    "fitted_egarch = fit(am)\n",
    "fitted_coefs = fitted_egarch.spec.coefs\n",
    "spec = EGARCH{1,1,1}(fitted_coefs)\n",
    "am = UnivariateARCHModel(spec,rt)\n",
    "ht_egarch_os = (volatilities(am).^2)[N₁+1:end]\n",
    "\n",
    "# tgarch\n",
    "spec = TGARCH{1,1,1}(zeros(4))\n",
    "am = UnivariateARCHModel(spec,rt_N₁)\n",
    "fitted_tgarch = fit(am)\n",
    "fitted_coefs = fitted_tgarch.spec.coefs\n",
    "spec = TGARCH{1,1,1}(fitted_coefs)\n",
    "am = UnivariateARCHModel(spec,rt)\n",
    "ht_tgarch_os = (volatilities(am).^2)[N₁+1:end]\n",
    "\n",
    "# realgarch\n",
    "spec = RealGARCH{1,1}(zeros(8)) # RealGARCH{p,q} = pRealGARCH{1,p,q,q} where q₁=q₂ \n",
    "am = UnivariateARCHXModel(spec,rt_N₁,xt_N₁)\n",
    "fitted_realgarch = fit(am)\n",
    "fitted_coefs = fitted_realgarch.spec.coefs\n",
    "spec = RealGARCH{1,1}(fitted_coefs)\n",
    "am = UnivariateARCHXModel(spec,rt,xt)\n",
    "ht_realgarch_os = (volatilities(am).^2)[N₁+1:end]\n",
    "println(\"complete\")\n",
    "\n",
    "# RealGARCH with fixed damper parameters (η=10)\n",
    "spec = dRealGARCH{1,1}(zeros(8)) \n",
    "am = UnivariateARCHXModel(spec,rt_N₁,xt_N₁)\n",
    "fitted_drealgarch = fit(am)\n",
    "fitted_coefs = fitted_drealgarch.spec.coefs\n",
    "spec = dRealGARCH{1,1}(fitted_coefs)\n",
    "am = UnivariateARCHXModel(spec,rt,xt)\n",
    "ht_drealgarch_os = (volatilities(am).^2)[N₁+1:end]\n",
    "println(\"complete\")\n",
    "\n"
   ]
  },
  {
   "cell_type": "code",
   "execution_count": null,
   "metadata": {},
   "outputs": [],
   "source": [
    "fitted_egarch"
   ]
  },
  {
   "cell_type": "code",
   "execution_count": null,
   "metadata": {},
   "outputs": [],
   "source": [
    "fitted_tgarch"
   ]
  },
  {
   "cell_type": "code",
   "execution_count": null,
   "metadata": {},
   "outputs": [],
   "source": [
    "fitted_realgarch"
   ]
  },
  {
   "cell_type": "code",
   "execution_count": null,
   "metadata": {},
   "outputs": [],
   "source": [
    "fitted_drealgarch"
   ]
  },
  {
   "cell_type": "code",
   "execution_count": null,
   "metadata": {},
   "outputs": [],
   "source": [
    "# Out-of-sample forecast comparison\n",
    "# qlike(σt,ht) = mean(σt./ht .- log.(σt./ht) .- 1) where σt and ht are realized volatility and volatility forecasting, repectively. \n",
    "\n",
    "σt2 = rt[N₁+1:end].^2 .+ 0.000001# squared return may have value 0. \n",
    "\n",
    "\n",
    "QLIKE = Dict()\n",
    "QLIKE[\"RealGARCH\"] = [qlike(σt2,ht_realgarch_os)]\n",
    "QLIKE[\"dRealGARCH\"] = [qlike(σt2,ht_drealgarch_os)]\n",
    "QLIKE[\"EGARCH\"] = [qlike(σt2,ht_egarch_os)]\n",
    "QLIKE[\"TGARCH\"] = [qlike(σt2,ht_tgarch_os)]\n"
   ]
  },
  {
   "cell_type": "code",
   "execution_count": null,
   "metadata": {},
   "outputs": [],
   "source": [
    "#QLIKE table\n",
    "QLIKE_table = DataFrame(QLIKE)[:,[\"TGARCH\",\"EGARCH\",\"RealGARCH\",\"dRealGARCH\"]]"
   ]
  },
  {
   "cell_type": "code",
   "execution_count": null,
   "metadata": {},
   "outputs": [],
   "source": [
    "#Relative QLIKE table (QLIKE of RealGARCH normalized to 1)\n",
    "relative_QLIKE_table = QLIKE_table ./ QLIKE_table[1,\"RealGARCH\"]"
   ]
  }
 ],
 "metadata": {
  "kernelspec": {
   "display_name": "Julia 1.6.3",
   "language": "julia",
   "name": "julia-1.6"
  },
  "language_info": {
   "file_extension": ".jl",
   "mimetype": "application/julia",
   "name": "julia",
   "version": "1.6.3"
  },
  "orig_nbformat": 4
 },
 "nbformat": 4,
 "nbformat_minor": 2
}
