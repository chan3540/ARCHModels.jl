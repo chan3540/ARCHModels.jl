{
 "cells": [
  {
   "cell_type": "code",
   "execution_count": 1,
   "metadata": {},
   "outputs": [],
   "source": [
    "#import package\n",
    "using CSV, DataFrames\n",
    "using Optim\n",
    "using Plots\n",
    "include(\"../src/ARCHModels.jl\")\n",
    "using .ARCHModels"
   ]
  },
  {
   "cell_type": "code",
   "execution_count": 16,
   "metadata": {},
   "outputs": [
    {
     "data": {
      "text/html": [
       "<div class=\"data-frame\"><p>1,895 rows × 3 columns</p><table class=\"data-frame\"><thead><tr><th></th><th>timestamp</th><th>RV</th><th>r</th></tr><tr><th></th><th title=\"String31\">String31</th><th title=\"Float64\">Float64</th><th title=\"Float64\">Float64</th></tr></thead><tbody><tr><th>1</th><td>2016-05-24 00:00:00+00:00</td><td>0.00330495</td><td>-0.0637061</td></tr><tr><th>2</th><td>2016-05-25 00:00:00+00:00</td><td>0.00437969</td><td>-0.0126085</td></tr><tr><th>3</th><td>2016-05-26 00:00:00+00:00</td><td>0.00296733</td><td>-0.0111644</td></tr><tr><th>4</th><td>2016-05-27 00:00:00+00:00</td><td>0.0246408</td><td>-0.12725</td></tr><tr><th>5</th><td>2016-05-28 00:00:00+00:00</td><td>0.0154029</td><td>0.0904965</td></tr><tr><th>6</th><td>2016-05-29 00:00:00+00:00</td><td>0.00258546</td><td>0.0262741</td></tr><tr><th>7</th><td>2016-05-30 00:00:00+00:00</td><td>0.00662173</td><td>0.0428297</td></tr><tr><th>8</th><td>2016-05-31 00:00:00+00:00</td><td>0.0141628</td><td>0.0947454</td></tr><tr><th>9</th><td>2016-06-01 00:00:00+00:00</td><td>0.0128903</td><td>-0.0163763</td></tr><tr><th>10</th><td>2016-06-02 00:00:00+00:00</td><td>0.00276724</td><td>0.00715311</td></tr><tr><th>11</th><td>2016-06-03 00:00:00+00:00</td><td>0.00721746</td><td>-0.00357016</td></tr><tr><th>12</th><td>2016-06-04 00:00:00+00:00</td><td>0.00403348</td><td>-0.00214823</td></tr><tr><th>13</th><td>2016-06-05 00:00:00+00:00</td><td>0.000458498</td><td>0.00643089</td></tr><tr><th>14</th><td>2016-06-06 00:00:00+00:00</td><td>0.000472626</td><td>0.012739</td></tr><tr><th>15</th><td>2016-06-07 00:00:00+00:00</td><td>0.00198374</td><td>0.0208776</td></tr><tr><th>16</th><td>2016-06-08 00:00:00+00:00</td><td>0.00169616</td><td>0.0082305</td></tr><tr><th>17</th><td>2016-06-09 00:00:00+00:00</td><td>0.000396557</td><td>0.00477003</td></tr><tr><th>18</th><td>2016-06-10 00:00:00+00:00</td><td>0.0028246</td><td>-0.0559195</td></tr><tr><th>19</th><td>2016-06-11 00:00:00+00:00</td><td>0.00138202</td><td>0.0135668</td></tr><tr><th>20</th><td>2016-06-12 00:00:00+00:00</td><td>0.00441628</td><td>0.0998132</td></tr><tr><th>21</th><td>2016-06-13 00:00:00+00:00</td><td>0.00766419</td><td>0.138254</td></tr><tr><th>22</th><td>2016-06-14 00:00:00+00:00</td><td>0.010344</td><td>0.0490829</td></tr><tr><th>23</th><td>2016-06-15 00:00:00+00:00</td><td>0.00325734</td><td>-0.0198878</td></tr><tr><th>24</th><td>2016-06-16 00:00:00+00:00</td><td>0.00595432</td><td>0.130609</td></tr><tr><th>&vellip;</th><td>&vellip;</td><td>&vellip;</td><td>&vellip;</td></tr></tbody></table></div>"
      ],
      "text/latex": [
       "\\begin{tabular}{r|ccc}\n",
       "\t& timestamp & RV & r\\\\\n",
       "\t\\hline\n",
       "\t& String31 & Float64 & Float64\\\\\n",
       "\t\\hline\n",
       "\t1 & 2016-05-24 00:00:00+00:00 & 0.00330495 & -0.0637061 \\\\\n",
       "\t2 & 2016-05-25 00:00:00+00:00 & 0.00437969 & -0.0126085 \\\\\n",
       "\t3 & 2016-05-26 00:00:00+00:00 & 0.00296733 & -0.0111644 \\\\\n",
       "\t4 & 2016-05-27 00:00:00+00:00 & 0.0246408 & -0.12725 \\\\\n",
       "\t5 & 2016-05-28 00:00:00+00:00 & 0.0154029 & 0.0904965 \\\\\n",
       "\t6 & 2016-05-29 00:00:00+00:00 & 0.00258546 & 0.0262741 \\\\\n",
       "\t7 & 2016-05-30 00:00:00+00:00 & 0.00662173 & 0.0428297 \\\\\n",
       "\t8 & 2016-05-31 00:00:00+00:00 & 0.0141628 & 0.0947454 \\\\\n",
       "\t9 & 2016-06-01 00:00:00+00:00 & 0.0128903 & -0.0163763 \\\\\n",
       "\t10 & 2016-06-02 00:00:00+00:00 & 0.00276724 & 0.00715311 \\\\\n",
       "\t11 & 2016-06-03 00:00:00+00:00 & 0.00721746 & -0.00357016 \\\\\n",
       "\t12 & 2016-06-04 00:00:00+00:00 & 0.00403348 & -0.00214823 \\\\\n",
       "\t13 & 2016-06-05 00:00:00+00:00 & 0.000458498 & 0.00643089 \\\\\n",
       "\t14 & 2016-06-06 00:00:00+00:00 & 0.000472626 & 0.012739 \\\\\n",
       "\t15 & 2016-06-07 00:00:00+00:00 & 0.00198374 & 0.0208776 \\\\\n",
       "\t16 & 2016-06-08 00:00:00+00:00 & 0.00169616 & 0.0082305 \\\\\n",
       "\t17 & 2016-06-09 00:00:00+00:00 & 0.000396557 & 0.00477003 \\\\\n",
       "\t18 & 2016-06-10 00:00:00+00:00 & 0.0028246 & -0.0559195 \\\\\n",
       "\t19 & 2016-06-11 00:00:00+00:00 & 0.00138202 & 0.0135668 \\\\\n",
       "\t20 & 2016-06-12 00:00:00+00:00 & 0.00441628 & 0.0998132 \\\\\n",
       "\t21 & 2016-06-13 00:00:00+00:00 & 0.00766419 & 0.138254 \\\\\n",
       "\t22 & 2016-06-14 00:00:00+00:00 & 0.010344 & 0.0490829 \\\\\n",
       "\t23 & 2016-06-15 00:00:00+00:00 & 0.00325734 & -0.0198878 \\\\\n",
       "\t24 & 2016-06-16 00:00:00+00:00 & 0.00595432 & 0.130609 \\\\\n",
       "\t$\\dots$ & $\\dots$ & $\\dots$ & $\\dots$ \\\\\n",
       "\\end{tabular}\n"
      ],
      "text/plain": [
       "\u001b[1m1895×3 DataFrame\u001b[0m\n",
       "\u001b[1m  Row \u001b[0m│\u001b[1m timestamp                 \u001b[0m\u001b[1m RV          \u001b[0m\u001b[1m r           \u001b[0m\n",
       "\u001b[1m      \u001b[0m│\u001b[90m String31                  \u001b[0m\u001b[90m Float64     \u001b[0m\u001b[90m Float64     \u001b[0m\n",
       "──────┼─────────────────────────────────────────────────────\n",
       "    1 │ 2016-05-24 00:00:00+00:00  0.00330495   -0.0637061\n",
       "    2 │ 2016-05-25 00:00:00+00:00  0.00437969   -0.0126085\n",
       "    3 │ 2016-05-26 00:00:00+00:00  0.00296733   -0.0111644\n",
       "    4 │ 2016-05-27 00:00:00+00:00  0.0246408    -0.12725\n",
       "    5 │ 2016-05-28 00:00:00+00:00  0.0154029     0.0904965\n",
       "    6 │ 2016-05-29 00:00:00+00:00  0.00258546    0.0262741\n",
       "    7 │ 2016-05-30 00:00:00+00:00  0.00662173    0.0428297\n",
       "    8 │ 2016-05-31 00:00:00+00:00  0.0141628     0.0947454\n",
       "  ⋮   │             ⋮                   ⋮            ⋮\n",
       " 1889 │ 2021-07-25 00:00:00+00:00  0.00111496    0.00323363\n",
       " 1890 │ 2021-07-26 00:00:00+00:00  0.00505265    0.0159369\n",
       " 1891 │ 2021-07-27 00:00:00+00:00  0.00322434    0.0319446\n",
       " 1892 │ 2021-07-28 00:00:00+00:00  0.00245289   -7.38968e-5\n",
       " 1893 │ 2021-07-29 00:00:00+00:00  0.000944237   0.0354028\n",
       " 1894 │ 2021-07-30 00:00:00+00:00  0.00150471    0.033251\n",
       " 1895 │ 2021-07-31 00:00:00+00:00  0.00108204    0.027951\n",
       "\u001b[36m                                           1880 rows omitted\u001b[0m"
      ]
     },
     "metadata": {},
     "output_type": "display_data"
    }
   ],
   "source": [
    "# read ETH data\n",
    "filename = \"CoinbasePro_RV_ETH-USD.csv\"\n",
    "readpath = dirname(pwd())*\"\\\\src\\\\data\\\\\"*filename\n",
    "df = DataFrame(CSV.File(readpath,header = 1))\n",
    "ts = df[1:end,1];\n",
    "rt = df[1:end,3];\n",
    "xt = df[1:end,2];\n",
    "df"
   ]
  },
  {
   "cell_type": "code",
   "execution_count": 14,
   "metadata": {},
   "outputs": [],
   "source": [
    "#split insample / out-of-sample\n",
    "N₁ = 1000\n",
    "\n",
    "rt_N₁ = rt[1:N₁];\n",
    "xt_N₁ = xt[1:N₁];\n"
   ]
  },
  {
   "cell_type": "code",
   "execution_count": 6,
   "metadata": {},
   "outputs": [
    {
     "name": "stdout",
     "output_type": "stream",
     "text": [
      "Iter     Function value    √(Σ(yᵢ-ȳ)²)/n \n",
      "------   --------------    --------------\n"
     ]
    },
    {
     "name": "stdout",
     "output_type": "stream",
     "text": [
      "     0     5.205406e+05              NaN\n"
     ]
    },
    {
     "name": "stdout",
     "output_type": "stream",
     "text": [
      " * time: 0.04700016975402832\n"
     ]
    },
    {
     "name": "stdout",
     "output_type": "stream",
     "text": [
      "   500    -2.567261e+03     5.487899e-02\n",
      " * time: 0.9040000438690186\n"
     ]
    },
    {
     "name": "stdout",
     "output_type": "stream",
     "text": [
      "complete\n"
     ]
    }
   ],
   "source": [
    "\n",
    "# In-sample estimation \n",
    "\n",
    "# egarch\n",
    "#Refer to https://s-broda.github.io/ARCHModels.jl/stable/univariatetypehierarchy/ for EGARCH and TGARCH model specification. \n",
    "\n",
    "spec = EGARCH{1,1,1}(zeros(4))\n",
    "am = UnivariateARCHModel(spec,rt_N₁)\n",
    "fitted_egarch = fit(am)\n",
    "fitted_coefs = fitted_egarch.spec.coefs\n",
    "spec = EGARCH{1,1,1}(fitted_coefs)\n",
    "am = UnivariateARCHModel(spec,rt)\n",
    "ht_egarch_os = (volatilities(am).^2)[N₁+1:end]\n",
    "\n",
    "# tgarch\n",
    "spec = TGARCH{1,1,1}(zeros(4))\n",
    "am = UnivariateARCHModel(spec,rt_N₁)\n",
    "fitted_tgarch = fit(am)\n",
    "fitted_coefs = fitted_tgarch.spec.coefs\n",
    "spec = TGARCH{1,1,1}(fitted_coefs)\n",
    "am = UnivariateARCHModel(spec,rt)\n",
    "ht_tgarch_os = (volatilities(am).^2)[N₁+1:end]\n",
    "\n",
    "# realgarch\n",
    "spec = RealGARCH{1,1}(zeros(8)) # RealGARCH{p,q} = pRealGARCH{1,p,q,q} where q₁=q₂ \n",
    "am = UnivariateARCHXModel(spec,rt_N₁,xt_N₁)\n",
    "fitted_realgarch = fit(am)\n",
    "fitted_coefs = fitted_realgarch.spec.coefs\n",
    "spec = RealGARCH{1,1}(fitted_coefs)\n",
    "am = UnivariateARCHXModel(spec,rt,xt)\n",
    "ht_realgarch_os = (volatilities(am).^2)[N₁+1:end]\n",
    "println(\"complete\")\n"
   ]
  },
  {
   "cell_type": "code",
   "execution_count": 7,
   "metadata": {},
   "outputs": [
    {
     "data": {
      "text/plain": [
       "\n",
       "EGARCH{1, 1, 1} model with Gaussian errors, T=1000.\n",
       "\n",
       "\n",
       "Volatility parameters:\n",
       "───────────────────────────────────────────────\n",
       "       Estimate  Std.Error    z value  Pr(>|z|)\n",
       "───────────────────────────────────────────────\n",
       "ω   -0.664337    0.278862   -2.38232     0.0172\n",
       "γ₁   0.00853593  0.0305385   0.279513    0.7799\n",
       "β₁   0.878454    0.0500076  17.5664      <1e-68\n",
       "α₁   0.333905    0.0747692   4.46581     <1e-05\n",
       "───────────────────────────────────────────────\n"
      ]
     },
     "metadata": {},
     "output_type": "display_data"
    }
   ],
   "source": [
    "fitted_egarch"
   ]
  },
  {
   "cell_type": "code",
   "execution_count": 8,
   "metadata": {},
   "outputs": [
    {
     "data": {
      "text/plain": [
       "\n",
       "TGARCH{1, 1, 1} model with Gaussian errors, T=1000.\n",
       "\n",
       "\n",
       "Volatility parameters:\n",
       "───────────────────────────────────────────────────\n",
       "       Estimate    Std.Error      z value  Pr(>|z|)\n",
       "───────────────────────────────────────────────────\n",
       "ω   0.000489976  0.000223497  2.19232        0.0284\n",
       "γ₁  8.55285e-50  0.0599333    1.42706e-48    1.0000\n",
       "β₁  0.666099     0.0929752    7.16426        <1e-12\n",
       "α₁  0.211024     0.0632697    3.3353         0.0009\n",
       "───────────────────────────────────────────────────\n"
      ]
     },
     "metadata": {},
     "output_type": "display_data"
    }
   ],
   "source": [
    "fitted_tgarch"
   ]
  },
  {
   "cell_type": "code",
   "execution_count": 9,
   "metadata": {},
   "outputs": [
    {
     "data": {
      "text/plain": [
       "\n",
       "RealGARCH{1, 1, 1} model.T=1000.\n",
       "\n",
       "\n",
       "Volatility parameters:\n",
       "───────────────────────────────────────────────\n",
       "       Estimate  Std.Error    z value  Pr(>|z|)\n",
       "───────────────────────────────────────────────\n",
       "ω₁   -1.23945    0.323004   -3.83725     0.0001\n",
       "β₁    0.781669   0.0576665  13.555       <1e-41\n",
       "τ₁₁  -0.0271099  0.0293539  -0.923552    0.3557\n",
       "τ₁₂   0.112684   0.0193856   5.81278     <1e-08\n",
       "γ     0.387815   0.0702611   5.51964     <1e-07\n",
       "ξ    -0.429829   0.0673814  -6.37905     <1e-09\n",
       "δ₁   -0.0671962  0.0311591  -2.15655     0.0310\n",
       "δ₂    0.162522   0.0183039   8.87911     <1e-18\n",
       "───────────────────────────────────────────────\n"
      ]
     },
     "metadata": {},
     "output_type": "display_data"
    }
   ],
   "source": [
    "fitted_realgarch"
   ]
  },
  {
   "cell_type": "code",
   "execution_count": 11,
   "metadata": {},
   "outputs": [
    {
     "data": {
      "text/plain": [
       "1-element Vector{Float64}:\n",
       " 1.7604767740040235"
      ]
     },
     "metadata": {},
     "output_type": "display_data"
    }
   ],
   "source": [
    "# Out-of-sample forecast comparison\n",
    "# qlike(σt,ht) = mean(σt./ht .- log.(σt./ht) .- 1) where σt and ht are realized volatility and volatility forecasting, repectively. \n",
    "\n",
    "σt2 = rt[N₁+1:end].^2 .+ 0.000001# squared return may have value 0. \n",
    "\n",
    "\n",
    "QLIKE = Dict()\n",
    "QLIKE[\"RealGARCH\"] = [qlike(σt2,ht_realgarch_os)]\n",
    "QLIKE[\"EGARCH\"] = [qlike(σt2,ht_egarch_os)]\n",
    "QLIKE[\"TGARCH\"] = [qlike(σt2,ht_tgarch_os)]\n",
    "\n"
   ]
  },
  {
   "cell_type": "code",
   "execution_count": 12,
   "metadata": {},
   "outputs": [
    {
     "data": {
      "text/html": [
       "<div class=\"data-frame\"><p>1 rows × 3 columns</p><table class=\"data-frame\"><thead><tr><th></th><th>TGARCH</th><th>EGARCH</th><th>RealGARCH</th></tr><tr><th></th><th title=\"Float64\">Float64</th><th title=\"Float64\">Float64</th><th title=\"Float64\">Float64</th></tr></thead><tbody><tr><th>1</th><td>1.76048</td><td>1.76287</td><td>1.72893</td></tr></tbody></table></div>"
      ],
      "text/latex": [
       "\\begin{tabular}{r|ccc}\n",
       "\t& TGARCH & EGARCH & RealGARCH\\\\\n",
       "\t\\hline\n",
       "\t& Float64 & Float64 & Float64\\\\\n",
       "\t\\hline\n",
       "\t1 & 1.76048 & 1.76287 & 1.72893 \\\\\n",
       "\\end{tabular}\n"
      ],
      "text/plain": [
       "\u001b[1m1×3 DataFrame\u001b[0m\n",
       "\u001b[1m Row \u001b[0m│\u001b[1m TGARCH  \u001b[0m\u001b[1m EGARCH  \u001b[0m\u001b[1m RealGARCH \u001b[0m\n",
       "\u001b[1m     \u001b[0m│\u001b[90m Float64 \u001b[0m\u001b[90m Float64 \u001b[0m\u001b[90m Float64   \u001b[0m\n",
       "─────┼─────────────────────────────\n",
       "   1 │ 1.76048  1.76287    1.72893"
      ]
     },
     "metadata": {},
     "output_type": "display_data"
    }
   ],
   "source": [
    "#QLIKE table\n",
    "QLIKE_table = DataFrame(QLIKE)[:,[\"TGARCH\",\"EGARCH\",\"RealGARCH\"]]"
   ]
  },
  {
   "cell_type": "code",
   "execution_count": 13,
   "metadata": {},
   "outputs": [
    {
     "data": {
      "text/html": [
       "<div class=\"data-frame\"><p>1 rows × 3 columns</p><table class=\"data-frame\"><thead><tr><th></th><th>TGARCH</th><th>EGARCH</th><th>RealGARCH</th></tr><tr><th></th><th title=\"Float64\">Float64</th><th title=\"Float64\">Float64</th><th title=\"Float64\">Float64</th></tr></thead><tbody><tr><th>1</th><td>1.01824</td><td>1.01963</td><td>1.0</td></tr></tbody></table></div>"
      ],
      "text/latex": [
       "\\begin{tabular}{r|ccc}\n",
       "\t& TGARCH & EGARCH & RealGARCH\\\\\n",
       "\t\\hline\n",
       "\t& Float64 & Float64 & Float64\\\\\n",
       "\t\\hline\n",
       "\t1 & 1.01824 & 1.01963 & 1.0 \\\\\n",
       "\\end{tabular}\n"
      ],
      "text/plain": [
       "\u001b[1m1×3 DataFrame\u001b[0m\n",
       "\u001b[1m Row \u001b[0m│\u001b[1m TGARCH  \u001b[0m\u001b[1m EGARCH  \u001b[0m\u001b[1m RealGARCH \u001b[0m\n",
       "\u001b[1m     \u001b[0m│\u001b[90m Float64 \u001b[0m\u001b[90m Float64 \u001b[0m\u001b[90m Float64   \u001b[0m\n",
       "─────┼─────────────────────────────\n",
       "   1 │ 1.01824  1.01963        1.0"
      ]
     },
     "metadata": {},
     "output_type": "display_data"
    }
   ],
   "source": [
    "#Relative QLIKE table (QLIKE of RealGARCH normalized to 1)\n",
    "relative_QLIKE_table = QLIKE_table ./ QLIKE_table[1,\"RealGARCH\"]"
   ]
  },
  {
   "cell_type": "code",
   "execution_count": null,
   "metadata": {},
   "outputs": [],
   "source": []
  }
 ],
 "metadata": {
  "kernelspec": {
   "display_name": "Julia 1.6.3",
   "language": "julia",
   "name": "julia-1.6"
  },
  "language_info": {
   "file_extension": ".jl",
   "mimetype": "application/julia",
   "name": "julia",
   "version": "1.6.3"
  },
  "orig_nbformat": 4
 },
 "nbformat": 4,
 "nbformat_minor": 2
}
